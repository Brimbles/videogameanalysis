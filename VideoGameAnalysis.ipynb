{
 "cells": [
  {
   "cell_type": "code",
   "execution_count": 3,
   "metadata": {},
   "outputs": [],
   "source": [
    "#Video game analysis \n",
    "#Purpose:\n",
    "# To analyse how characters, stories and content have evolved over time.\n",
    "\n",
    "#Part 1 - getting a dataset of games to work with:\n",
    "\n",
    "# I will be basing the analysis on a couple of sources. I've started by adapting a scrape script created by Gregory Smith:\n",
    "# https://github.com/GregorUT/vgchartzScrape/blob/master/vgchartzfull.py\n",
    "# my version can be found here:\n",
    "#https://github.com/Brimbles/videogameanalysis/blob/master/getVideoGameDataBenj.py\n",
    "# This has been adjusted as vgchartz now uses a https protocol, \n",
    "# also there were a number of unicode incompatibile characters, I've hardcoded exclusions - not the nicest solution but the quickest I could do at my experience level.\n",
    "# The output of this is a csv file containing the top 17K games ranked by number of sales.\n"
   ]
  },
  {
   "cell_type": "code",
   "execution_count": null,
   "metadata": {},
   "outputs": [],
   "source": [
    "\n",
    "# Part 2 - apending plot / synopsis data to each game\n",
    "\n",
    "# ATTEMPT 1\n",
    "# Next I wanted to add to this data, the story data to analyse. My first thought was to scrape this from wikipedia (some articles have either a plot or synopsis section).\n",
    "# I spent some time scraping this data, and extracting some parts with beautiful soup, but it just wasn't going\n",
    "# to work without a considerable investment of time and effort, due to the heirarchy of articles on wikipedia. \n",
    "# For example VGChartz returns the \"Pokemon\" series of video games as number one by Sales. \n",
    "# Wikipedia on the other hand has a top level \"Pokemon\" article, which refers to sub-articles for the various games, animated series and movies.\n",
    "# https://github.com/Brimbles/videogameanalysis/blob/master/getVideoGameDataBenj.py\n",
    "\n",
    "# ATTEMPT 2\n"
   ]
  }
 ],
 "metadata": {
  "kernelspec": {
   "display_name": "Python 3",
   "language": "python",
   "name": "python3"
  },
  "language_info": {
   "codemirror_mode": {
    "name": "ipython",
    "version": 3
   },
   "file_extension": ".py",
   "mimetype": "text/x-python",
   "name": "python",
   "nbconvert_exporter": "python",
   "pygments_lexer": "ipython3",
   "version": "3.8.2"
  }
 },
 "nbformat": 4,
 "nbformat_minor": 4
}
