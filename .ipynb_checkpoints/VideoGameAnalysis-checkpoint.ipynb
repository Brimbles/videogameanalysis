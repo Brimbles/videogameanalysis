{
 "cells": [
  {
   "cell_type": "code",
   "execution_count": 3,
   "metadata": {},
   "outputs": [],
   "source": [
    "#Video game analysis \n",
    "#Purpose:\n",
    "# To analyse how have characters, stories and content have evolved over time.\n",
    "\n",
    "#Part 1 getting the data:\n",
    "# I will be basing the analysis on a couple of sources. I've started by adapting a scrape script created by Gregory Smith:\n",
    "# https://github.com/GregorUT/vgchartzScrape/blob/master/vgchartzfull.py\n",
    "# my version can be found here:\n",
    "# \n",
    "\n",
    "\n"
   ]
  }
 ],
 "metadata": {
  "kernelspec": {
   "display_name": "Python 3",
   "language": "python",
   "name": "python3"
  },
  "language_info": {
   "codemirror_mode": {
    "name": "ipython",
    "version": 3
   },
   "file_extension": ".py",
   "mimetype": "text/x-python",
   "name": "python",
   "nbconvert_exporter": "python",
   "pygments_lexer": "ipython3",
   "version": "3.8.2"
  }
 },
 "nbformat": 4,
 "nbformat_minor": 4
}
